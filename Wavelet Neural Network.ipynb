{
 "cells": [
  {
   "cell_type": "markdown",
   "metadata": {},
   "source": [
    "# Wavelet Neural Network (Rede Neural baseada em Wavelets)\n",
    "\n",
    "## Introdução\n",
    "\n",
    "As redes neurais wavelet combinam a teoria das wavelets e as redes neurais. Uma rede neural wavelet consiste geralmente de uma rede neural de alimentação direta, com uma camada oculta, cujas funções de ativação são extraídas de uma família de wavelets.\n",
    "\n",
    "Uma das aplicações das redes neurais wavelet é a **estimativa de funções**. Dada uma série de valores observados de uma função, uma rede wavelet pode ser treinada para aprender a composição dessa função e, assim, calcular um valor esperado para uma dada entrada.\n",
    "\n",
    "## O que é uma Rede Neural Wavelet?\n",
    "\n",
    "A estrutura de uma rede neural wavelet é muito semelhante à de uma rede neural MLP. Isto é, uma rede neural de avanço, recebendo uma ou mais entradas, com uma camada oculta e cuja camada de saída consiste em um ou mais combinadores lineares. A camada oculta consiste em neurônios, cujas funções de ativação são extraídas de uma base wavelet. Esses neurônios wavelet são geralmente chamados de _wavelons_.\n",
    "\n",
    "Aqui estão duas abordagens principais para a criação de redes neurais wavelet:\n",
    "\n",
    "- Na primeira, a wavelet e o processamento da rede neural são executados separadamente. O sinal de entrada é decomposto pela primeira vez usando alguma base wavelet pelos neurônios na camada oculta. Os coeficientes wavelet são, então, utilizados para modificar (atualizar) os pesos sinápticos de entrada de acordo com algum algoritmo de aprendizado.\n",
    "\n",
    "- Na segundo, combina-se as duas teorias. Neste caso, a tradução e a dilatação das wavelets, juntamente com os pesos de de entrada, são modificadas de acordo com algum algoritmo de aprendizado.\n",
    "\n",
    "Em geral, quando a primeira abordagem é utilizada, apenas as dilatações diádicas e as traduções da wavelet mãe formam a base da wavelet. Esse tipo de rede neural wavelet é geralmente chamado de wavenet. O segundo tipo é simplesmente chamado de rede wavelet.\n",
    "\n",
    "## Características\n",
    "\n",
    "- Não possui polarização ou limiar na camada oculta nem na camada de saída;\n",
    "\n",
    "## Equações\n",
    "\n",
    "### Computação no sentido direto\n",
    "\n",
    "$$net_j = \\sum_{i = 1}^{N_i} (x_i - t_{ji})^2$$\n",
    "\n",
    "$$y_j = \\varphi(net_j) = sig(\\frac{net_j - t_h}{r_h})$$"
   ]
  },
  {
   "cell_type": "code",
   "execution_count": null,
   "metadata": {},
   "outputs": [],
   "source": []
  }
 ],
 "metadata": {
  "kernelspec": {
   "display_name": "Python 2",
   "language": "python",
   "name": "python2"
  },
  "language_info": {
   "codemirror_mode": {
    "name": "ipython",
    "version": 2
   },
   "file_extension": ".py",
   "mimetype": "text/x-python",
   "name": "python",
   "nbconvert_exporter": "python",
   "pygments_lexer": "ipython2",
   "version": "2.7.12"
  }
 },
 "nbformat": 4,
 "nbformat_minor": 2
}
